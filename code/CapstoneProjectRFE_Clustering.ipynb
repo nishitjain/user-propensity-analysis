{
 "cells": [
  {
   "cell_type": "code",
   "execution_count": 31,
   "metadata": {},
   "outputs": [],
   "source": [
    "import pandas as pd\n",
    "from sklearn.cluster import KMeans\n",
    "import matplotlib.pyplot as plt\n",
    "from mpl_toolkits import mplot3d\n",
    "import warnings\n",
    "warnings.filterwarnings('ignore')\n",
    "%matplotlib inline"
   ]
  },
  {
   "cell_type": "code",
   "execution_count": 2,
   "metadata": {},
   "outputs": [],
   "source": [
    "rfm_raw_data = pd.read_pickle('Data/clevertap.pkl')\n",
    "registration = pd.read_csv('Data/Registration.csv')"
   ]
  },
  {
   "cell_type": "code",
   "execution_count": 3,
   "metadata": {},
   "outputs": [],
   "source": [
    "registration_sample = registration.sample(n=2000, random_state=0)\n",
    "filter_data = rfm_raw_data['UserId'].isin(registration_sample['UserId'].values.tolist())\n",
    "data_sample = rfm_raw_data[filter_data]"
   ]
  },
  {
   "cell_type": "code",
   "execution_count": 4,
   "metadata": {},
   "outputs": [
    {
     "data": {
      "text/html": [
       "<div>\n",
       "<style scoped>\n",
       "    .dataframe tbody tr th:only-of-type {\n",
       "        vertical-align: middle;\n",
       "    }\n",
       "\n",
       "    .dataframe tbody tr th {\n",
       "        vertical-align: top;\n",
       "    }\n",
       "\n",
       "    .dataframe thead th {\n",
       "        text-align: right;\n",
       "    }\n",
       "</style>\n",
       "<table border=\"1\" class=\"dataframe\">\n",
       "  <thead>\n",
       "    <tr style=\"text-align: right;\">\n",
       "      <th></th>\n",
       "      <th>Category</th>\n",
       "      <th>Country</th>\n",
       "      <th>Date</th>\n",
       "      <th>Device</th>\n",
       "      <th>Event</th>\n",
       "      <th>Genre</th>\n",
       "      <th>Minute_Of_Day</th>\n",
       "      <th>OS</th>\n",
       "      <th>ProgramType</th>\n",
       "      <th>Second</th>\n",
       "      <th>State</th>\n",
       "      <th>Status</th>\n",
       "      <th>UserId</th>\n",
       "      <th>VideoId</th>\n",
       "      <th>timestamp</th>\n",
       "    </tr>\n",
       "  </thead>\n",
       "  <tbody>\n",
       "    <tr>\n",
       "      <th>1607</th>\n",
       "      <td>NaN</td>\n",
       "      <td>1</td>\n",
       "      <td>20170106</td>\n",
       "      <td>1</td>\n",
       "      <td>AppLaunched</td>\n",
       "      <td>NaN</td>\n",
       "      <td>288</td>\n",
       "      <td>1</td>\n",
       "      <td>NaN</td>\n",
       "      <td>24</td>\n",
       "      <td>35</td>\n",
       "      <td>NaN</td>\n",
       "      <td>bae9dc46d75296e2f5b3457ff846a23a</td>\n",
       "      <td>NaN</td>\n",
       "      <td>2017-01-06 04:48:24</td>\n",
       "    </tr>\n",
       "    <tr>\n",
       "      <th>2364</th>\n",
       "      <td>NaN</td>\n",
       "      <td>1</td>\n",
       "      <td>20170106</td>\n",
       "      <td>1</td>\n",
       "      <td>AppLaunched</td>\n",
       "      <td>NaN</td>\n",
       "      <td>459</td>\n",
       "      <td>1</td>\n",
       "      <td>NaN</td>\n",
       "      <td>40</td>\n",
       "      <td>38</td>\n",
       "      <td>NaN</td>\n",
       "      <td>1e1243a821b5000ee90c2660a56d07d8</td>\n",
       "      <td>NaN</td>\n",
       "      <td>2017-01-06 07:39:40</td>\n",
       "    </tr>\n",
       "    <tr>\n",
       "      <th>3254</th>\n",
       "      <td>NaN</td>\n",
       "      <td>40</td>\n",
       "      <td>20170106</td>\n",
       "      <td>1</td>\n",
       "      <td>AppLaunched</td>\n",
       "      <td>NaN</td>\n",
       "      <td>565</td>\n",
       "      <td>1</td>\n",
       "      <td>NaN</td>\n",
       "      <td>16</td>\n",
       "      <td>46</td>\n",
       "      <td>NaN</td>\n",
       "      <td>fc8c912c4b15f89c89491d4fe7dae268</td>\n",
       "      <td>NaN</td>\n",
       "      <td>2017-01-06 09:25:16</td>\n",
       "    </tr>\n",
       "    <tr>\n",
       "      <th>4409</th>\n",
       "      <td>NaN</td>\n",
       "      <td>40</td>\n",
       "      <td>20170106</td>\n",
       "      <td>1</td>\n",
       "      <td>AppLaunched</td>\n",
       "      <td>NaN</td>\n",
       "      <td>666</td>\n",
       "      <td>1</td>\n",
       "      <td>NaN</td>\n",
       "      <td>12</td>\n",
       "      <td>33</td>\n",
       "      <td>NaN</td>\n",
       "      <td>fa5f4d157bbb5209045c21763be050cf</td>\n",
       "      <td>NaN</td>\n",
       "      <td>2017-01-06 11:06:12</td>\n",
       "    </tr>\n",
       "    <tr>\n",
       "      <th>4515</th>\n",
       "      <td>NaN</td>\n",
       "      <td>40</td>\n",
       "      <td>20170106</td>\n",
       "      <td>1</td>\n",
       "      <td>AppLaunched</td>\n",
       "      <td>NaN</td>\n",
       "      <td>674</td>\n",
       "      <td>1</td>\n",
       "      <td>NaN</td>\n",
       "      <td>0</td>\n",
       "      <td>46</td>\n",
       "      <td>NaN</td>\n",
       "      <td>fc8c912c4b15f89c89491d4fe7dae268</td>\n",
       "      <td>NaN</td>\n",
       "      <td>2017-01-06 11:14:00</td>\n",
       "    </tr>\n",
       "  </tbody>\n",
       "</table>\n",
       "</div>"
      ],
      "text/plain": [
       "     Category  Country         ...          VideoId           timestamp\n",
       "1607      NaN        1         ...              NaN 2017-01-06 04:48:24\n",
       "2364      NaN        1         ...              NaN 2017-01-06 07:39:40\n",
       "3254      NaN       40         ...              NaN 2017-01-06 09:25:16\n",
       "4409      NaN       40         ...              NaN 2017-01-06 11:06:12\n",
       "4515      NaN       40         ...              NaN 2017-01-06 11:14:00\n",
       "\n",
       "[5 rows x 15 columns]"
      ]
     },
     "execution_count": 4,
     "metadata": {},
     "output_type": "execute_result"
    }
   ],
   "source": [
    "data_sample.head()"
   ]
  },
  {
   "cell_type": "code",
   "execution_count": 5,
   "metadata": {},
   "outputs": [
    {
     "data": {
      "text/plain": [
       "VideoDetails      35790\n",
       "AppLaunched       18970\n",
       "VideoStarted      17239\n",
       "Registration       4244\n",
       "UTMVisited         3010\n",
       "AppUninstalled     1484\n",
       "Name: Event, dtype: int64"
      ]
     },
     "execution_count": 5,
     "metadata": {},
     "output_type": "execute_result"
    }
   ],
   "source": [
    "data_sample['Event'].value_counts()"
   ]
  },
  {
   "cell_type": "code",
   "execution_count": 6,
   "metadata": {},
   "outputs": [],
   "source": [
    "# Initializing required filters\n",
    "app_launch_filter = data_sample['Event']=='AppLaunched'\n",
    "video_detail_filter = data_sample['Event']=='VideoDetails'\n",
    "video_started_filter = data_sample['Event']=='VideoStarted'\n",
    "utm_visited_filter = data_sample['Event'] == 'UTMVisited'\n",
    "# initializing RFM Dataframe\n",
    "# data_sample.drop(['Date','Minute_Of_Day','Second'],axis=1,inplace=True)"
   ]
  },
  {
   "cell_type": "code",
   "execution_count": 7,
   "metadata": {},
   "outputs": [],
   "source": [
    "max_date = data_sample.timestamp.max()\n",
    "recencyData = data_sample[app_launch_filter | video_detail_filter | video_started_filter | utm_visited_filter]\n",
    "def getRecencyData(user):\n",
    "    userData = recencyData[recencyData['UserId']==user]\n",
    "    recent_date = userData.timestamp.max()\n",
    "    recency = (max_date - recent_date)\n",
    "    return (recency.days + ((recency.seconds/3600)/24))\n",
    "\n",
    "\n",
    "frequencyData = data_sample[app_launch_filter]\n",
    "def getFrequency(user):\n",
    "    userFrequencyData = frequencyData[frequencyData['UserId']==user]\n",
    "    frequency = len(userFrequencyData)\n",
    "    return frequency    \n",
    "\n",
    "engagementData1 = data_sample[video_detail_filter]\n",
    "engagementData2 = data_sample[video_started_filter]    \n",
    "def getEngagement(user):\n",
    "    data1 = engagementData1[engagementData1['UserId']==user]\n",
    "    data2 = engagementData2[engagementData2['UserId']==user]\n",
    "    engagement = (0.3*len(data1)) + (0.7*len(data2))\n",
    "    return engagement"
   ]
  },
  {
   "cell_type": "code",
   "execution_count": 8,
   "metadata": {},
   "outputs": [],
   "source": [
    "def getRFMDataframe(data_sample):\n",
    "    rfm_sample = pd.DataFrame()\n",
    "    rfm_sample['UserId'] = registration_sample['UserId'].values\n",
    "    rfm_sample['Recency'] = 0\n",
    "    rfm_sample['Frequency'] = 0\n",
    "    rfm_sample['Engagement'] = 0\n",
    "    # Recency\n",
    "    rfm_sample['Recency'] = rfm_sample['UserId'].apply(getRecencyData) \n",
    "\n",
    "    # Freqency\n",
    "    rfm_sample['Frequency'] = rfm_sample['UserId'].apply(getFrequency) \n",
    "    # Engagement\n",
    "    rfm_sample['Engagement'] = rfm_sample['UserId'].apply(getEngagement) \n",
    "        \n",
    "    return rfm_sample"
   ]
  },
  {
   "cell_type": "code",
   "execution_count": 9,
   "metadata": {},
   "outputs": [],
   "source": [
    "rfm_sample = getRFMDataframe(data_sample)"
   ]
  },
  {
   "cell_type": "code",
   "execution_count": 10,
   "metadata": {},
   "outputs": [
    {
     "data": {
      "text/html": [
       "<div>\n",
       "<style scoped>\n",
       "    .dataframe tbody tr th:only-of-type {\n",
       "        vertical-align: middle;\n",
       "    }\n",
       "\n",
       "    .dataframe tbody tr th {\n",
       "        vertical-align: top;\n",
       "    }\n",
       "\n",
       "    .dataframe thead th {\n",
       "        text-align: right;\n",
       "    }\n",
       "</style>\n",
       "<table border=\"1\" class=\"dataframe\">\n",
       "  <thead>\n",
       "    <tr style=\"text-align: right;\">\n",
       "      <th></th>\n",
       "      <th>UserId</th>\n",
       "      <th>Recency</th>\n",
       "      <th>Frequency</th>\n",
       "      <th>Engagement</th>\n",
       "    </tr>\n",
       "  </thead>\n",
       "  <tbody>\n",
       "    <tr>\n",
       "      <th>0</th>\n",
       "      <td>d536ce2236ffa3d83f179754a409405a</td>\n",
       "      <td>115.186806</td>\n",
       "      <td>17</td>\n",
       "      <td>12.4</td>\n",
       "    </tr>\n",
       "    <tr>\n",
       "      <th>1</th>\n",
       "      <td>2839586022ec876bf14ac5445e23f703</td>\n",
       "      <td>22.134074</td>\n",
       "      <td>8</td>\n",
       "      <td>0.6</td>\n",
       "    </tr>\n",
       "    <tr>\n",
       "      <th>2</th>\n",
       "      <td>87d1e57b45b1cd6da07eb629c6767c90</td>\n",
       "      <td>2.972037</td>\n",
       "      <td>75</td>\n",
       "      <td>176.1</td>\n",
       "    </tr>\n",
       "    <tr>\n",
       "      <th>3</th>\n",
       "      <td>b905bc1b49123bb976b469ecc5f91f02</td>\n",
       "      <td>35.082824</td>\n",
       "      <td>1</td>\n",
       "      <td>0.0</td>\n",
       "    </tr>\n",
       "    <tr>\n",
       "      <th>4</th>\n",
       "      <td>8f53c22c066b359cc712d6032454c7d8</td>\n",
       "      <td>86.125972</td>\n",
       "      <td>4</td>\n",
       "      <td>0.6</td>\n",
       "    </tr>\n",
       "  </tbody>\n",
       "</table>\n",
       "</div>"
      ],
      "text/plain": [
       "                             UserId     ...      Engagement\n",
       "0  d536ce2236ffa3d83f179754a409405a     ...            12.4\n",
       "1  2839586022ec876bf14ac5445e23f703     ...             0.6\n",
       "2  87d1e57b45b1cd6da07eb629c6767c90     ...           176.1\n",
       "3  b905bc1b49123bb976b469ecc5f91f02     ...             0.0\n",
       "4  8f53c22c066b359cc712d6032454c7d8     ...             0.6\n",
       "\n",
       "[5 rows x 4 columns]"
      ]
     },
     "execution_count": 10,
     "metadata": {},
     "output_type": "execute_result"
    }
   ],
   "source": [
    "rfm_sample.head()"
   ]
  },
  {
   "cell_type": "code",
   "execution_count": 11,
   "metadata": {},
   "outputs": [
    {
     "data": {
      "text/html": [
       "<div>\n",
       "<style scoped>\n",
       "    .dataframe tbody tr th:only-of-type {\n",
       "        vertical-align: middle;\n",
       "    }\n",
       "\n",
       "    .dataframe tbody tr th {\n",
       "        vertical-align: top;\n",
       "    }\n",
       "\n",
       "    .dataframe thead th {\n",
       "        text-align: right;\n",
       "    }\n",
       "</style>\n",
       "<table border=\"1\" class=\"dataframe\">\n",
       "  <thead>\n",
       "    <tr style=\"text-align: right;\">\n",
       "      <th></th>\n",
       "      <th>Category</th>\n",
       "      <th>Country</th>\n",
       "      <th>Date</th>\n",
       "      <th>Device</th>\n",
       "      <th>Event</th>\n",
       "      <th>Genre</th>\n",
       "      <th>Minute_Of_Day</th>\n",
       "      <th>OS</th>\n",
       "      <th>ProgramType</th>\n",
       "      <th>Second</th>\n",
       "      <th>State</th>\n",
       "      <th>Status</th>\n",
       "      <th>UserId</th>\n",
       "      <th>VideoId</th>\n",
       "      <th>timestamp</th>\n",
       "    </tr>\n",
       "  </thead>\n",
       "  <tbody>\n",
       "    <tr>\n",
       "      <th>0</th>\n",
       "      <td>NaN</td>\n",
       "      <td>1</td>\n",
       "      <td>20170106</td>\n",
       "      <td>1</td>\n",
       "      <td>AppLaunched</td>\n",
       "      <td>NaN</td>\n",
       "      <td>0</td>\n",
       "      <td>2</td>\n",
       "      <td>NaN</td>\n",
       "      <td>4</td>\n",
       "      <td>50</td>\n",
       "      <td>NaN</td>\n",
       "      <td>a27134c322d4f56dabc106a6847cb96b</td>\n",
       "      <td>NaN</td>\n",
       "      <td>2017-01-06 00:00:04</td>\n",
       "    </tr>\n",
       "    <tr>\n",
       "      <th>1</th>\n",
       "      <td>NaN</td>\n",
       "      <td>1</td>\n",
       "      <td>20170106</td>\n",
       "      <td>1</td>\n",
       "      <td>AppLaunched</td>\n",
       "      <td>NaN</td>\n",
       "      <td>0</td>\n",
       "      <td>2</td>\n",
       "      <td>NaN</td>\n",
       "      <td>8</td>\n",
       "      <td>40</td>\n",
       "      <td>NaN</td>\n",
       "      <td>aab39ad0874c59cc388525d511667f9d</td>\n",
       "      <td>NaN</td>\n",
       "      <td>2017-01-06 00:00:08</td>\n",
       "    </tr>\n",
       "    <tr>\n",
       "      <th>2</th>\n",
       "      <td>NaN</td>\n",
       "      <td>1</td>\n",
       "      <td>20170106</td>\n",
       "      <td>1</td>\n",
       "      <td>AppLaunched</td>\n",
       "      <td>NaN</td>\n",
       "      <td>0</td>\n",
       "      <td>2</td>\n",
       "      <td>NaN</td>\n",
       "      <td>12</td>\n",
       "      <td>35</td>\n",
       "      <td>NaN</td>\n",
       "      <td>f717dc3f757dc18cc0c3f27ed3e94ef8</td>\n",
       "      <td>NaN</td>\n",
       "      <td>2017-01-06 00:00:12</td>\n",
       "    </tr>\n",
       "    <tr>\n",
       "      <th>3</th>\n",
       "      <td>NaN</td>\n",
       "      <td>1</td>\n",
       "      <td>20170106</td>\n",
       "      <td>2</td>\n",
       "      <td>AppLaunched</td>\n",
       "      <td>NaN</td>\n",
       "      <td>0</td>\n",
       "      <td>2</td>\n",
       "      <td>NaN</td>\n",
       "      <td>20</td>\n",
       "      <td>40</td>\n",
       "      <td>NaN</td>\n",
       "      <td>04c1e14fd54a06c0d4fe98cf0cb8b04c</td>\n",
       "      <td>NaN</td>\n",
       "      <td>2017-01-06 00:00:20</td>\n",
       "    </tr>\n",
       "    <tr>\n",
       "      <th>4</th>\n",
       "      <td>NaN</td>\n",
       "      <td>1</td>\n",
       "      <td>20170106</td>\n",
       "      <td>1</td>\n",
       "      <td>AppLaunched</td>\n",
       "      <td>NaN</td>\n",
       "      <td>0</td>\n",
       "      <td>2</td>\n",
       "      <td>NaN</td>\n",
       "      <td>20</td>\n",
       "      <td>35</td>\n",
       "      <td>NaN</td>\n",
       "      <td>71f05822bb699a04b694dd30265fdf73</td>\n",
       "      <td>NaN</td>\n",
       "      <td>2017-01-06 00:00:20</td>\n",
       "    </tr>\n",
       "  </tbody>\n",
       "</table>\n",
       "</div>"
      ],
      "text/plain": [
       "  Category  Country         ...          VideoId           timestamp\n",
       "0      NaN        1         ...              NaN 2017-01-06 00:00:04\n",
       "1      NaN        1         ...              NaN 2017-01-06 00:00:08\n",
       "2      NaN        1         ...              NaN 2017-01-06 00:00:12\n",
       "3      NaN        1         ...              NaN 2017-01-06 00:00:20\n",
       "4      NaN        1         ...              NaN 2017-01-06 00:00:20\n",
       "\n",
       "[5 rows x 15 columns]"
      ]
     },
     "execution_count": 11,
     "metadata": {},
     "output_type": "execute_result"
    }
   ],
   "source": [
    "rfm_raw_data.head()"
   ]
  },
  {
   "cell_type": "code",
   "execution_count": 12,
   "metadata": {},
   "outputs": [],
   "source": [
    "# Deriving a datetime object.\n",
    "import datetime as dtp\n",
    "import time\n",
    "from time import mktime\n",
    "from datetime import datetime\n",
    "\n",
    "def createTimeStamp(row):\n",
    "    #convert minute of day to hh:mm:ss format\n",
    "    timeFormatted = dtp.timedelta(minutes=int(row.Minute_Of_Day), seconds=int(row.Second))\n",
    "    timeVariable = time.strptime(str(row.Date)+\" \"+str(timeFormatted),'%Y%m%d %H:%M:%S')\n",
    "    dt = datetime.fromtimestamp(mktime(timeVariable))\n",
    "    return dt"
   ]
  },
  {
   "cell_type": "code",
   "execution_count": 13,
   "metadata": {},
   "outputs": [
    {
     "data": {
      "text/html": [
       "<div>\n",
       "<style scoped>\n",
       "    .dataframe tbody tr th:only-of-type {\n",
       "        vertical-align: middle;\n",
       "    }\n",
       "\n",
       "    .dataframe tbody tr th {\n",
       "        vertical-align: top;\n",
       "    }\n",
       "\n",
       "    .dataframe thead th {\n",
       "        text-align: right;\n",
       "    }\n",
       "</style>\n",
       "<table border=\"1\" class=\"dataframe\">\n",
       "  <thead>\n",
       "    <tr style=\"text-align: right;\">\n",
       "      <th></th>\n",
       "      <th>UserId</th>\n",
       "      <th>Recency</th>\n",
       "      <th>Frequency</th>\n",
       "      <th>Engagement</th>\n",
       "    </tr>\n",
       "  </thead>\n",
       "  <tbody>\n",
       "    <tr>\n",
       "      <th>0</th>\n",
       "      <td>d536ce2236ffa3d83f179754a409405a</td>\n",
       "      <td>115.186806</td>\n",
       "      <td>17</td>\n",
       "      <td>12.4</td>\n",
       "    </tr>\n",
       "    <tr>\n",
       "      <th>1</th>\n",
       "      <td>2839586022ec876bf14ac5445e23f703</td>\n",
       "      <td>22.134074</td>\n",
       "      <td>8</td>\n",
       "      <td>0.6</td>\n",
       "    </tr>\n",
       "    <tr>\n",
       "      <th>2</th>\n",
       "      <td>87d1e57b45b1cd6da07eb629c6767c90</td>\n",
       "      <td>2.972037</td>\n",
       "      <td>75</td>\n",
       "      <td>176.1</td>\n",
       "    </tr>\n",
       "    <tr>\n",
       "      <th>3</th>\n",
       "      <td>b905bc1b49123bb976b469ecc5f91f02</td>\n",
       "      <td>35.082824</td>\n",
       "      <td>1</td>\n",
       "      <td>0.0</td>\n",
       "    </tr>\n",
       "    <tr>\n",
       "      <th>4</th>\n",
       "      <td>8f53c22c066b359cc712d6032454c7d8</td>\n",
       "      <td>86.125972</td>\n",
       "      <td>4</td>\n",
       "      <td>0.6</td>\n",
       "    </tr>\n",
       "  </tbody>\n",
       "</table>\n",
       "</div>"
      ],
      "text/plain": [
       "                             UserId     ...      Engagement\n",
       "0  d536ce2236ffa3d83f179754a409405a     ...            12.4\n",
       "1  2839586022ec876bf14ac5445e23f703     ...             0.6\n",
       "2  87d1e57b45b1cd6da07eb629c6767c90     ...           176.1\n",
       "3  b905bc1b49123bb976b469ecc5f91f02     ...             0.0\n",
       "4  8f53c22c066b359cc712d6032454c7d8     ...             0.6\n",
       "\n",
       "[5 rows x 4 columns]"
      ]
     },
     "execution_count": 13,
     "metadata": {},
     "output_type": "execute_result"
    }
   ],
   "source": [
    "rfm_sample.head()"
   ]
  },
  {
   "cell_type": "code",
   "execution_count": 14,
   "metadata": {},
   "outputs": [],
   "source": [
    "video_started = pd.read_csv('Data/VideoStarted.csv')"
   ]
  },
  {
   "cell_type": "code",
   "execution_count": 15,
   "metadata": {},
   "outputs": [],
   "source": [
    "is_video_watched = rfm_sample['UserId'].isin(video_started['UserId'].values.tolist())"
   ]
  },
  {
   "cell_type": "code",
   "execution_count": 16,
   "metadata": {},
   "outputs": [
    {
     "data": {
      "text/plain": [
       "True"
      ]
     },
     "execution_count": 16,
     "metadata": {},
     "output_type": "execute_result"
    }
   ],
   "source": [
    "is_video_watched.iloc[0]"
   ]
  },
  {
   "cell_type": "code",
   "execution_count": 17,
   "metadata": {},
   "outputs": [],
   "source": [
    "def get_target_watched(rfm_sample):\n",
    "    rfm_sample['target_video_watched'] = 0\n",
    "    for i in range(len(rfm_sample)):\n",
    "        if(is_video_watched.iloc[i]==True):\n",
    "            rfm_sample['target_video_watched'].iloc[i] = 1"
   ]
  },
  {
   "cell_type": "code",
   "execution_count": 18,
   "metadata": {},
   "outputs": [],
   "source": [
    "get_target_watched(rfm_sample)"
   ]
  },
  {
   "cell_type": "code",
   "execution_count": 19,
   "metadata": {},
   "outputs": [
    {
     "data": {
      "text/html": [
       "<div>\n",
       "<style scoped>\n",
       "    .dataframe tbody tr th:only-of-type {\n",
       "        vertical-align: middle;\n",
       "    }\n",
       "\n",
       "    .dataframe tbody tr th {\n",
       "        vertical-align: top;\n",
       "    }\n",
       "\n",
       "    .dataframe thead th {\n",
       "        text-align: right;\n",
       "    }\n",
       "</style>\n",
       "<table border=\"1\" class=\"dataframe\">\n",
       "  <thead>\n",
       "    <tr style=\"text-align: right;\">\n",
       "      <th></th>\n",
       "      <th>UserId</th>\n",
       "      <th>Recency</th>\n",
       "      <th>Frequency</th>\n",
       "      <th>Engagement</th>\n",
       "      <th>target_video_watched</th>\n",
       "    </tr>\n",
       "  </thead>\n",
       "  <tbody>\n",
       "    <tr>\n",
       "      <th>0</th>\n",
       "      <td>d536ce2236ffa3d83f179754a409405a</td>\n",
       "      <td>115.186806</td>\n",
       "      <td>17</td>\n",
       "      <td>12.4</td>\n",
       "      <td>1</td>\n",
       "    </tr>\n",
       "    <tr>\n",
       "      <th>1</th>\n",
       "      <td>2839586022ec876bf14ac5445e23f703</td>\n",
       "      <td>22.134074</td>\n",
       "      <td>8</td>\n",
       "      <td>0.6</td>\n",
       "      <td>0</td>\n",
       "    </tr>\n",
       "    <tr>\n",
       "      <th>2</th>\n",
       "      <td>87d1e57b45b1cd6da07eb629c6767c90</td>\n",
       "      <td>2.972037</td>\n",
       "      <td>75</td>\n",
       "      <td>176.1</td>\n",
       "      <td>1</td>\n",
       "    </tr>\n",
       "    <tr>\n",
       "      <th>3</th>\n",
       "      <td>b905bc1b49123bb976b469ecc5f91f02</td>\n",
       "      <td>35.082824</td>\n",
       "      <td>1</td>\n",
       "      <td>0.0</td>\n",
       "      <td>0</td>\n",
       "    </tr>\n",
       "    <tr>\n",
       "      <th>4</th>\n",
       "      <td>8f53c22c066b359cc712d6032454c7d8</td>\n",
       "      <td>86.125972</td>\n",
       "      <td>4</td>\n",
       "      <td>0.6</td>\n",
       "      <td>0</td>\n",
       "    </tr>\n",
       "  </tbody>\n",
       "</table>\n",
       "</div>"
      ],
      "text/plain": [
       "                             UserId          ...           target_video_watched\n",
       "0  d536ce2236ffa3d83f179754a409405a          ...                              1\n",
       "1  2839586022ec876bf14ac5445e23f703          ...                              0\n",
       "2  87d1e57b45b1cd6da07eb629c6767c90          ...                              1\n",
       "3  b905bc1b49123bb976b469ecc5f91f02          ...                              0\n",
       "4  8f53c22c066b359cc712d6032454c7d8          ...                              0\n",
       "\n",
       "[5 rows x 5 columns]"
      ]
     },
     "execution_count": 19,
     "metadata": {},
     "output_type": "execute_result"
    }
   ],
   "source": [
    "rfm_sample.head()"
   ]
  },
  {
   "cell_type": "code",
   "execution_count": 20,
   "metadata": {},
   "outputs": [
    {
     "data": {
      "text/html": [
       "<div>\n",
       "<style scoped>\n",
       "    .dataframe tbody tr th:only-of-type {\n",
       "        vertical-align: middle;\n",
       "    }\n",
       "\n",
       "    .dataframe tbody tr th {\n",
       "        vertical-align: top;\n",
       "    }\n",
       "\n",
       "    .dataframe thead th {\n",
       "        text-align: right;\n",
       "    }\n",
       "</style>\n",
       "<table border=\"1\" class=\"dataframe\">\n",
       "  <thead>\n",
       "    <tr style=\"text-align: right;\">\n",
       "      <th></th>\n",
       "      <th>UserId</th>\n",
       "      <th>Recency</th>\n",
       "      <th>Frequency</th>\n",
       "      <th>Engagement</th>\n",
       "      <th>target_video_watched</th>\n",
       "    </tr>\n",
       "  </thead>\n",
       "  <tbody>\n",
       "    <tr>\n",
       "      <th>0</th>\n",
       "      <td>d536ce2236ffa3d83f179754a409405a</td>\n",
       "      <td>115.186806</td>\n",
       "      <td>17</td>\n",
       "      <td>12.4</td>\n",
       "      <td>1</td>\n",
       "    </tr>\n",
       "    <tr>\n",
       "      <th>1</th>\n",
       "      <td>2839586022ec876bf14ac5445e23f703</td>\n",
       "      <td>22.134074</td>\n",
       "      <td>8</td>\n",
       "      <td>0.6</td>\n",
       "      <td>0</td>\n",
       "    </tr>\n",
       "    <tr>\n",
       "      <th>2</th>\n",
       "      <td>87d1e57b45b1cd6da07eb629c6767c90</td>\n",
       "      <td>2.972037</td>\n",
       "      <td>75</td>\n",
       "      <td>176.1</td>\n",
       "      <td>1</td>\n",
       "    </tr>\n",
       "    <tr>\n",
       "      <th>3</th>\n",
       "      <td>b905bc1b49123bb976b469ecc5f91f02</td>\n",
       "      <td>35.082824</td>\n",
       "      <td>1</td>\n",
       "      <td>0.0</td>\n",
       "      <td>0</td>\n",
       "    </tr>\n",
       "    <tr>\n",
       "      <th>4</th>\n",
       "      <td>8f53c22c066b359cc712d6032454c7d8</td>\n",
       "      <td>86.125972</td>\n",
       "      <td>4</td>\n",
       "      <td>0.6</td>\n",
       "      <td>0</td>\n",
       "    </tr>\n",
       "  </tbody>\n",
       "</table>\n",
       "</div>"
      ],
      "text/plain": [
       "                             UserId          ...           target_video_watched\n",
       "0  d536ce2236ffa3d83f179754a409405a          ...                              1\n",
       "1  2839586022ec876bf14ac5445e23f703          ...                              0\n",
       "2  87d1e57b45b1cd6da07eb629c6767c90          ...                              1\n",
       "3  b905bc1b49123bb976b469ecc5f91f02          ...                              0\n",
       "4  8f53c22c066b359cc712d6032454c7d8          ...                              0\n",
       "\n",
       "[5 rows x 5 columns]"
      ]
     },
     "execution_count": 20,
     "metadata": {},
     "output_type": "execute_result"
    }
   ],
   "source": [
    "rfm_sample.head()"
   ]
  },
  {
   "cell_type": "code",
   "execution_count": 21,
   "metadata": {},
   "outputs": [
    {
     "data": {
      "text/html": [
       "<div>\n",
       "<style scoped>\n",
       "    .dataframe tbody tr th:only-of-type {\n",
       "        vertical-align: middle;\n",
       "    }\n",
       "\n",
       "    .dataframe tbody tr th {\n",
       "        vertical-align: top;\n",
       "    }\n",
       "\n",
       "    .dataframe thead th {\n",
       "        text-align: right;\n",
       "    }\n",
       "</style>\n",
       "<table border=\"1\" class=\"dataframe\">\n",
       "  <thead>\n",
       "    <tr style=\"text-align: right;\">\n",
       "      <th></th>\n",
       "      <th>Category</th>\n",
       "      <th>Country</th>\n",
       "      <th>Date</th>\n",
       "      <th>Device</th>\n",
       "      <th>Event</th>\n",
       "      <th>Genre</th>\n",
       "      <th>Minute_Of_Day</th>\n",
       "      <th>OS</th>\n",
       "      <th>ProgramType</th>\n",
       "      <th>Second</th>\n",
       "      <th>State</th>\n",
       "      <th>Status</th>\n",
       "      <th>UserId</th>\n",
       "      <th>VideoId</th>\n",
       "      <th>timestamp</th>\n",
       "    </tr>\n",
       "  </thead>\n",
       "  <tbody>\n",
       "    <tr>\n",
       "      <th>0</th>\n",
       "      <td>NaN</td>\n",
       "      <td>1</td>\n",
       "      <td>20170106</td>\n",
       "      <td>1</td>\n",
       "      <td>AppLaunched</td>\n",
       "      <td>NaN</td>\n",
       "      <td>0</td>\n",
       "      <td>2</td>\n",
       "      <td>NaN</td>\n",
       "      <td>4</td>\n",
       "      <td>50</td>\n",
       "      <td>NaN</td>\n",
       "      <td>a27134c322d4f56dabc106a6847cb96b</td>\n",
       "      <td>NaN</td>\n",
       "      <td>2017-01-06 00:00:04</td>\n",
       "    </tr>\n",
       "    <tr>\n",
       "      <th>1</th>\n",
       "      <td>NaN</td>\n",
       "      <td>1</td>\n",
       "      <td>20170106</td>\n",
       "      <td>1</td>\n",
       "      <td>AppLaunched</td>\n",
       "      <td>NaN</td>\n",
       "      <td>0</td>\n",
       "      <td>2</td>\n",
       "      <td>NaN</td>\n",
       "      <td>8</td>\n",
       "      <td>40</td>\n",
       "      <td>NaN</td>\n",
       "      <td>aab39ad0874c59cc388525d511667f9d</td>\n",
       "      <td>NaN</td>\n",
       "      <td>2017-01-06 00:00:08</td>\n",
       "    </tr>\n",
       "    <tr>\n",
       "      <th>2</th>\n",
       "      <td>NaN</td>\n",
       "      <td>1</td>\n",
       "      <td>20170106</td>\n",
       "      <td>1</td>\n",
       "      <td>AppLaunched</td>\n",
       "      <td>NaN</td>\n",
       "      <td>0</td>\n",
       "      <td>2</td>\n",
       "      <td>NaN</td>\n",
       "      <td>12</td>\n",
       "      <td>35</td>\n",
       "      <td>NaN</td>\n",
       "      <td>f717dc3f757dc18cc0c3f27ed3e94ef8</td>\n",
       "      <td>NaN</td>\n",
       "      <td>2017-01-06 00:00:12</td>\n",
       "    </tr>\n",
       "    <tr>\n",
       "      <th>3</th>\n",
       "      <td>NaN</td>\n",
       "      <td>1</td>\n",
       "      <td>20170106</td>\n",
       "      <td>2</td>\n",
       "      <td>AppLaunched</td>\n",
       "      <td>NaN</td>\n",
       "      <td>0</td>\n",
       "      <td>2</td>\n",
       "      <td>NaN</td>\n",
       "      <td>20</td>\n",
       "      <td>40</td>\n",
       "      <td>NaN</td>\n",
       "      <td>04c1e14fd54a06c0d4fe98cf0cb8b04c</td>\n",
       "      <td>NaN</td>\n",
       "      <td>2017-01-06 00:00:20</td>\n",
       "    </tr>\n",
       "    <tr>\n",
       "      <th>4</th>\n",
       "      <td>NaN</td>\n",
       "      <td>1</td>\n",
       "      <td>20170106</td>\n",
       "      <td>1</td>\n",
       "      <td>AppLaunched</td>\n",
       "      <td>NaN</td>\n",
       "      <td>0</td>\n",
       "      <td>2</td>\n",
       "      <td>NaN</td>\n",
       "      <td>20</td>\n",
       "      <td>35</td>\n",
       "      <td>NaN</td>\n",
       "      <td>71f05822bb699a04b694dd30265fdf73</td>\n",
       "      <td>NaN</td>\n",
       "      <td>2017-01-06 00:00:20</td>\n",
       "    </tr>\n",
       "  </tbody>\n",
       "</table>\n",
       "</div>"
      ],
      "text/plain": [
       "  Category  Country         ...          VideoId           timestamp\n",
       "0      NaN        1         ...              NaN 2017-01-06 00:00:04\n",
       "1      NaN        1         ...              NaN 2017-01-06 00:00:08\n",
       "2      NaN        1         ...              NaN 2017-01-06 00:00:12\n",
       "3      NaN        1         ...              NaN 2017-01-06 00:00:20\n",
       "4      NaN        1         ...              NaN 2017-01-06 00:00:20\n",
       "\n",
       "[5 rows x 15 columns]"
      ]
     },
     "execution_count": 21,
     "metadata": {},
     "output_type": "execute_result"
    }
   ],
   "source": [
    "rfm_raw_data.head()"
   ]
  },
  {
   "cell_type": "code",
   "execution_count": 22,
   "metadata": {},
   "outputs": [],
   "source": [
    "data = rfm_raw_data[rfm_raw_data['UserId'].isin(rfm_sample['UserId'].values.tolist())][['UserId','timestamp']]"
   ]
  },
  {
   "cell_type": "code",
   "execution_count": 23,
   "metadata": {},
   "outputs": [],
   "source": [
    "max_date = max(data.timestamp)"
   ]
  },
  {
   "cell_type": "code",
   "execution_count": 24,
   "metadata": {},
   "outputs": [
    {
     "data": {
      "text/plain": [
       "Timedelta('157 days 23:51:16')"
      ]
     },
     "execution_count": 24,
     "metadata": {},
     "output_type": "execute_result"
    }
   ],
   "source": [
    "max_date - rfm_raw_data.timestamp.iloc[0]"
   ]
  },
  {
   "cell_type": "code",
   "execution_count": 25,
   "metadata": {},
   "outputs": [],
   "source": [
    "from datetime import timedelta\n",
    "rfm_sample['target_video_watched_2days'] = 0\n",
    "for user in rfm_sample.UserId.values.tolist():\n",
    "    user_data = rfm_raw_data[(rfm_raw_data['Event']=='VideoStarted') & (rfm_raw_data.UserId==user)]\n",
    "    if(len(user_data) != 0):\n",
    "        time_delta = max_date - max(user_data.timestamp)\n",
    "        if(time_delta < timedelta(days=2)):\n",
    "            rfm_sample.loc[rfm_sample.UserId==user,'target_video_watched_2days'] = 1"
   ]
  },
  {
   "cell_type": "code",
   "execution_count": 26,
   "metadata": {},
   "outputs": [
    {
     "data": {
      "text/html": [
       "<div>\n",
       "<style scoped>\n",
       "    .dataframe tbody tr th:only-of-type {\n",
       "        vertical-align: middle;\n",
       "    }\n",
       "\n",
       "    .dataframe tbody tr th {\n",
       "        vertical-align: top;\n",
       "    }\n",
       "\n",
       "    .dataframe thead th {\n",
       "        text-align: right;\n",
       "    }\n",
       "</style>\n",
       "<table border=\"1\" class=\"dataframe\">\n",
       "  <thead>\n",
       "    <tr style=\"text-align: right;\">\n",
       "      <th></th>\n",
       "      <th>UserId</th>\n",
       "      <th>Recency</th>\n",
       "      <th>Frequency</th>\n",
       "      <th>Engagement</th>\n",
       "      <th>target_video_watched</th>\n",
       "      <th>target_video_watched_2days</th>\n",
       "    </tr>\n",
       "  </thead>\n",
       "  <tbody>\n",
       "    <tr>\n",
       "      <th>0</th>\n",
       "      <td>d536ce2236ffa3d83f179754a409405a</td>\n",
       "      <td>115.186806</td>\n",
       "      <td>17</td>\n",
       "      <td>12.4</td>\n",
       "      <td>1</td>\n",
       "      <td>0</td>\n",
       "    </tr>\n",
       "    <tr>\n",
       "      <th>1</th>\n",
       "      <td>2839586022ec876bf14ac5445e23f703</td>\n",
       "      <td>22.134074</td>\n",
       "      <td>8</td>\n",
       "      <td>0.6</td>\n",
       "      <td>0</td>\n",
       "      <td>0</td>\n",
       "    </tr>\n",
       "    <tr>\n",
       "      <th>2</th>\n",
       "      <td>87d1e57b45b1cd6da07eb629c6767c90</td>\n",
       "      <td>2.972037</td>\n",
       "      <td>75</td>\n",
       "      <td>176.1</td>\n",
       "      <td>1</td>\n",
       "      <td>0</td>\n",
       "    </tr>\n",
       "    <tr>\n",
       "      <th>3</th>\n",
       "      <td>b905bc1b49123bb976b469ecc5f91f02</td>\n",
       "      <td>35.082824</td>\n",
       "      <td>1</td>\n",
       "      <td>0.0</td>\n",
       "      <td>0</td>\n",
       "      <td>0</td>\n",
       "    </tr>\n",
       "    <tr>\n",
       "      <th>4</th>\n",
       "      <td>8f53c22c066b359cc712d6032454c7d8</td>\n",
       "      <td>86.125972</td>\n",
       "      <td>4</td>\n",
       "      <td>0.6</td>\n",
       "      <td>0</td>\n",
       "      <td>0</td>\n",
       "    </tr>\n",
       "  </tbody>\n",
       "</table>\n",
       "</div>"
      ],
      "text/plain": [
       "                             UserId             ...              target_video_watched_2days\n",
       "0  d536ce2236ffa3d83f179754a409405a             ...                                       0\n",
       "1  2839586022ec876bf14ac5445e23f703             ...                                       0\n",
       "2  87d1e57b45b1cd6da07eb629c6767c90             ...                                       0\n",
       "3  b905bc1b49123bb976b469ecc5f91f02             ...                                       0\n",
       "4  8f53c22c066b359cc712d6032454c7d8             ...                                       0\n",
       "\n",
       "[5 rows x 6 columns]"
      ]
     },
     "execution_count": 26,
     "metadata": {},
     "output_type": "execute_result"
    }
   ],
   "source": [
    "rfm_sample.head()"
   ]
  },
  {
   "cell_type": "code",
   "execution_count": 33,
   "metadata": {},
   "outputs": [
    {
     "data": {
      "text/plain": [
       "<matplotlib.axes._subplots.AxesSubplot at 0x7f0925510c18>"
      ]
     },
     "execution_count": 33,
     "metadata": {},
     "output_type": "execute_result"
    },
    {
     "data": {
      "image/png": "[encoded data removed]",
      "text/plain": [
       "<Figure size 432x288 with 1 Axes>"
      ]
     },
     "metadata": {
      "needs_background": "light"
     },
     "output_type": "display_data"
    }
   ],
   "source": [
    "rfm_sample.target_video_watched.value_counts().plot(kind='bar')"
   ]
  },
  {
   "cell_type": "code",
   "execution_count": 29,
   "metadata": {},
   "outputs": [],
   "source": [
    "rfm_sample.to_csv('rfm_sample.csv')"
   ]
  },
  {
   "cell_type": "code",
   "execution_count": 34,
   "metadata": {},
   "outputs": [
    {
     "data": {
      "text/plain": [
       "<matplotlib.axes._subplots.AxesSubplot at 0x7f09276435f8>"
      ]
     },
     "execution_count": 34,
     "metadata": {},
     "output_type": "execute_result"
    },
    {
     "data": {
      "image/png": "[encoded data removed]",
      "text/plain": [
       "<Figure size 432x288 with 1 Axes>"
      ]
     },
     "metadata": {
      "needs_background": "light"
     },
     "output_type": "display_data"
    }
   ],
   "source": [
    "rfm_sample.target_video_watched_2days.value_counts().plot(kind='bar')"
   ]
  },
  {
   "cell_type": "code",
   "execution_count": null,
   "metadata": {},
   "outputs": [],
   "source": []
  }
 ],
 "metadata": {
  "kernelspec": {
   "display_name": "Python 3",
   "language": "python",
   "name": "python3"
  },
  "language_info": {
   "codemirror_mode": {
    "name": "ipython",
    "version": 3
   },
   "file_extension": ".py",
   "mimetype": "text/x-python",
   "name": "python",
   "nbconvert_exporter": "python",
   "pygments_lexer": "ipython3",
   "version": "3.7.3"
  }
 },
 "nbformat": 4,
 "nbformat_minor": 2
}
